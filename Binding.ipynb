{
 "cells": [
  {
   "cell_type": "markdown",
   "metadata": {},
   "source": [
    "### Binding study"
   ]
  },
  {
   "cell_type": "code",
   "execution_count": 1,
   "metadata": {},
   "outputs": [],
   "source": [
    "import ipywidgets as wg\n",
    "from IPython.display import display\n",
    "import pandas as pd\n",
    "import keras"
   ]
  },
  {
   "cell_type": "code",
   "execution_count": 7,
   "metadata": {},
   "outputs": [
    {
     "data": {
      "application/vnd.jupyter.widget-view+json": {
       "model_id": "619a978695ee4c0c9aefe35f9ea3e296",
       "version_major": 2,
       "version_minor": 0
      },
      "text/plain": [
       "Text(value='write drug here...', description='Drug:   ')"
      ]
     },
     "metadata": {},
     "output_type": "display_data"
    },
    {
     "data": {
      "application/vnd.jupyter.widget-view+json": {
       "model_id": "290a854ec9014acda2e09898b3f7e61e",
       "version_major": 2,
       "version_minor": 0
      },
      "text/plain": [
       "Text(value='write protein here...', description='Target:   ')"
      ]
     },
     "metadata": {},
     "output_type": "display_data"
    }
   ],
   "source": [
    "mydrug = wg.Text(value='write drug here...', description='Drug:   ')\n",
    "myprotein = wg.Text(value='write protein here...', description='Target:   ')\n",
    "display(mydrug, myprotein)"
   ]
  },
  {
   "cell_type": "code",
   "execution_count": 4,
   "metadata": {},
   "outputs": [
    {
     "name": "stdout",
     "output_type": "stream",
     "text": [
      "Selected drug: CCC==CCC\n",
      "Selected protein:  NNPPP\n"
     ]
    }
   ],
   "source": [
    "print('Selected drug: ' + mydrug.value) \n",
    "print('Selected protein:  ' + myprotein.value)"
   ]
  },
  {
   "cell_type": "code",
   "execution_count": 5,
   "metadata": {},
   "outputs": [
    {
     "name": "stdout",
     "output_type": "stream",
     "text": [
      "WARNING:tensorflow:From <ipython-input-5-1c6df9894893>:51: Sequential.predict_classes (from tensorflow.python.keras.engine.sequential) is deprecated and will be removed after 2021-01-01.\n",
      "Instructions for updating:\n",
      "Please use instead:* `np.argmax(model.predict(x), axis=-1)`,   if your model does multi-class classification   (e.g. if it uses a `softmax` last-layer activation).* `(model.predict(x) > 0.5).astype(\"int32\")`,   if your model does binary classification   (e.g. if it uses a `sigmoid` last-layer activation).\n"
     ]
    }
   ],
   "source": [
    "    import tensorflow as tf\n",
    "    from keras.preprocessing.text import Tokenizer\n",
    "    from keras.preprocessing.sequence import pad_sequences\n",
    "    from keras.utils import to_categorical\n",
    "    import numpy as np\n",
    "    from keras import preprocessing\n",
    "    import os\n",
    "    text = str(mydrug)\n",
    "    #text = [text]\n",
    "    BASE_DIR1 = os.path.dirname(os.path.abspath('data1.csv'))\n",
    "    #model2 = Word2Vec.load(os.path.join(BASE_DIR1, 'static/model_bind.h5'))\n",
    "    df_bind = pd.read_csv(os.path.join(BASE_DIR1, 'data1.csv'), encoding = 'utf_8', nrows=100)\n",
    "\n",
    "    text2 = str(myprotein)\n",
    "    text = text + \" \"+ text2\n",
    "    df_bind = df_bind.append({'to_a': text}, ignore_index=True)\n",
    "#przygotowanie zapytania do analizy\n",
    "\n",
    "    lines = df_bind['to_a'].values.tolist()\n",
    "    review_lines = list()\n",
    "    for line in lines:\n",
    "        review_lines.append(line)\n",
    "\n",
    "    MAX_SEQUENCE_LENGTH = 300\n",
    "\n",
    "    tokenizer = Tokenizer(lower = False, char_level=True)\n",
    "    tokenizer.fit_on_texts(review_lines)\n",
    "    sequences = tokenizer.texts_to_sequences(review_lines)\n",
    "\n",
    "    word_index = tokenizer.word_index\n",
    "\n",
    "    review_pad = pad_sequences(sequences, maxlen=MAX_SEQUENCE_LENGTH, truncating = 'post')\n",
    "\n",
    "    sentiment =  df_bind['class'].values\n",
    "\n",
    "    training_samples = round(len(review_lines)*2/3)\n",
    "    validation_samples = round(len(review_lines)/3)\n",
    "\n",
    "    x_train = review_pad[:training_samples]\n",
    "    y_train = sentiment[:training_samples]\n",
    "    x_test = review_pad[training_samples: training_samples + validation_samples]\n",
    "    y_test = sentiment[training_samples: training_samples + validation_samples]\n",
    "\n",
    "\n",
    "\n",
    "#predykcja\n",
    "    from keras.models import load_model\n",
    "    BASE_DIR = os.path.dirname(os.path.abspath('model_bind.h5'))\n",
    "    #model2 = load_model(os.path.join(BASE_DIR, 'static/model_bind.h5'))\n",
    "    model2 = load_model('model_bind.h5')\n",
    "    ynew1 = model2.predict_classes(x_test[len(x_test)-1:len(x_test)])\n",
    "    if ynew1 == 1:\n",
    "        y = 'Niestety, twoja cząsteczka posiada Ki większy od 100'\n",
    "    else:\n",
    "        y= 'Brawo! twoja cząsteczka posiada Ki mniejszy od 100'"
   ]
  },
  {
   "cell_type": "code",
   "execution_count": 6,
   "metadata": {},
   "outputs": [
    {
     "name": "stdout",
     "output_type": "stream",
     "text": [
      "Niestety, twoja cząsteczka posiada Ki większy od 100\n"
     ]
    }
   ],
   "source": [
    "print(y)"
   ]
  },
  {
   "cell_type": "code",
   "execution_count": 2,
   "metadata": {},
   "outputs": [
    {
     "name": "stdout",
     "output_type": "stream",
     "text": [
      "2.4.3\n"
     ]
    }
   ],
   "source": [
    "print(keras.__version__)\n"
   ]
  }
 ],
 "metadata": {
  "kernelspec": {
   "display_name": "Python 3",
   "language": "python",
   "name": "python3"
  },
  "language_info": {
   "codemirror_mode": {
    "name": "ipython",
    "version": 3
   },
   "file_extension": ".py",
   "mimetype": "text/x-python",
   "name": "python",
   "nbconvert_exporter": "python",
   "pygments_lexer": "ipython3",
   "version": "3.8.2"
  }
 },
 "nbformat": 4,
 "nbformat_minor": 4
}
